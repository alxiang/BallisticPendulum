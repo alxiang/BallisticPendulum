{
 "cells": [
  {
   "cell_type": "code",
   "execution_count": 1,
   "metadata": {},
   "outputs": [
    {
     "name": "stdout",
     "output_type": "stream",
     "text": [
      "pygame 1.9.6\n",
      "Hello from the pygame community. https://www.pygame.org/contribute.html\n",
      "Loading chipmunk for Darwin (64bit) [/Users/alecx/anaconda3/envs/physics/lib/python2.7/site-packages/pymunk/libchipmunk.dylib]\n"
     ]
    }
   ],
   "source": [
    "import sys\n",
    "import pygame\n",
    "from pygame.locals import *\n",
    "import pymunk #1"
   ]
  },
  {
   "cell_type": "code",
   "execution_count": 2,
   "metadata": {},
   "outputs": [],
   "source": [
    "from pymunk import pygame_util\n",
    "import random\n",
    "import math"
   ]
  },
  {
   "cell_type": "code",
   "execution_count": 3,
   "metadata": {},
   "outputs": [],
   "source": [
    "def add_ball(space):\n",
    "    mass = 1\n",
    "    radius = 14\n",
    "    moment = pymunk.moment_for_circle(mass, 0, radius) # 1\n",
    "    body = pymunk.Body(mass, moment) # 2\n",
    "    x = random.randint(120, 380)\n",
    "    body.position = x, 550 # 3\n",
    "    shape = pymunk.Circle(body, radius) # 4\n",
    "    space.add(body, shape) # 5\n",
    "    return shape"
   ]
  },
  {
   "cell_type": "code",
   "execution_count": 4,
   "metadata": {},
   "outputs": [],
   "source": [
    "def add_static_L(space):\n",
    "    body = pymunk.Body(body_type = pymunk.Body.STATIC) # 1\n",
    "    body.position = (300, 300)\n",
    "    l1 = pymunk.Segment(body, (-150, 0), (255, 0), 5) # 2\n",
    "    l2 = pymunk.Segment(body, (-150, 0), (-150, 50), 5)\n",
    "\n",
    "    space.add(l1, l2) # 3\n",
    "    return l1,l2"
   ]
  },
  {
   "cell_type": "code",
   "execution_count": 5,
   "metadata": {},
   "outputs": [],
   "source": [
    "def add_L(space):\n",
    "    rotation_center_body = pymunk.Body(body_type = pymunk.Body.STATIC) # 1\n",
    "    rotation_center_body.position = (300, 300)\n",
    "    \n",
    "    rotation_limit_body = pymunk.Body(body_type = pymunk.Body.STATIC) # 1\n",
    "    rotation_limit_body.position = (200,300)\n",
    "\n",
    "    body = pymunk.Body(10, 10000) # 2\n",
    "    body.position = (300, 300)\n",
    "    l1 = pymunk.Segment(body, (-150, 0), (255.0, 0.0), 5.0)\n",
    "    l2 = pymunk.Segment(body, (-150.0, 0), (-150.0, 50.0), 5.0)\n",
    "\n",
    "    rotation_center_joint = pymunk.PinJoint(body, rotation_center_body, (0,0), (0,0)) # 3\n",
    "    joint_limit = 25\n",
    "    rotation_limit_joint = pymunk.SlideJoint(body, rotation_limit_body, (-100,0), (0,0), 0, joint_limit) # 2\n",
    "\n",
    "    space.add(l1, l2, body, rotation_center_joint, rotation_limit_joint)\n",
    "    return l1,l2"
   ]
  },
  {
   "cell_type": "code",
   "execution_count": 6,
   "metadata": {},
   "outputs": [],
   "source": [
    "def to_pygame(p):\n",
    "    \"\"\"Small hack to convert pymunk to pygame coordinates\"\"\"\n",
    "    return int(p.x), int(-p.y+600)"
   ]
  },
  {
   "cell_type": "code",
   "execution_count": 7,
   "metadata": {},
   "outputs": [
    {
     "ename": "SystemExit",
     "evalue": "0",
     "output_type": "error",
     "traceback": [
      "An exception has occurred, use %tb to see the full traceback.\n",
      "\u001b[0;31mSystemExit\u001b[0m\u001b[0;31m:\u001b[0m 0\n"
     ]
    },
    {
     "name": "stderr",
     "output_type": "stream",
     "text": [
      "/Users/alecx/anaconda3/envs/physics/lib/python2.7/site-packages/IPython/core/interactiveshell.py:2886: UserWarning: To exit: use 'exit', 'quit', or Ctrl-D.\n",
      "  warn(\"To exit: use 'exit', 'quit', or Ctrl-D.\", stacklevel=1)\n"
     ]
    }
   ],
   "source": [
    "def main():\n",
    "    pygame.init()\n",
    "    screen = pygame.display.set_mode((600, 600))\n",
    "    pygame.display.set_caption(\"Joints. Just wait and the L will tip over\")\n",
    "    clock = pygame.time.Clock()\n",
    "\n",
    "    space = pymunk.Space() #2\n",
    "    space.gravity = (0.0, -900.0)\n",
    "    \n",
    "    lines = add_L(space)\n",
    "    balls = []\n",
    "    draw_options = pymunk.pygame_util.DrawOptions(screen)\n",
    "\n",
    "    ticks_to_next_ball = 10\n",
    "\n",
    "    while True:\n",
    "        for event in pygame.event.get():\n",
    "            if event.type == QUIT:\n",
    "                sys.exit(0)\n",
    "            elif event.type == KEYDOWN and event.key == K_ESCAPE:\n",
    "                sys.exit(0)\n",
    "                \n",
    "        \n",
    "        ticks_to_next_ball -= 1\n",
    "        if ticks_to_next_ball <= 0:\n",
    "            ticks_to_next_ball = 25\n",
    "            ball_shape = add_ball(space)\n",
    "            balls.append(ball_shape)\n",
    "\n",
    "        space.step(1/50.0)\n",
    "\n",
    "        screen.fill((255,255,255))\n",
    "        space.debug_draw(draw_options)\n",
    "\n",
    "\n",
    "        pygame.display.flip()\n",
    "        clock.tick(50)\n",
    "\n",
    "if __name__ == '__main__':\n",
    "    sys.exit(main())"
   ]
  },
  {
   "cell_type": "code",
   "execution_count": null,
   "metadata": {},
   "outputs": [],
   "source": []
  }
 ],
 "metadata": {
  "kernelspec": {
   "display_name": "Python 2",
   "language": "python",
   "name": "python2"
  },
  "language_info": {
   "codemirror_mode": {
    "name": "ipython",
    "version": 2
   },
   "file_extension": ".py",
   "mimetype": "text/x-python",
   "name": "python",
   "nbconvert_exporter": "python",
   "pygments_lexer": "ipython2",
   "version": "2.7.16"
  }
 },
 "nbformat": 4,
 "nbformat_minor": 2
}
