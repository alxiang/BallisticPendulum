{
 "cells": [
  {
   "cell_type": "code",
   "execution_count": 1,
   "metadata": {},
   "outputs": [
    {
     "name": "stdout",
     "output_type": "stream",
     "text": [
      "pygame 1.9.6\n",
      "Hello from the pygame community. https://www.pygame.org/contribute.html\n",
      "Loading chipmunk for Darwin (64bit) [/Users/alecx/anaconda3/envs/physics/lib/python2.7/site-packages/pymunk/libchipmunk.dylib]\n"
     ]
    }
   ],
   "source": [
    "import sys\n",
    "import pygame\n",
    "from pygame.locals import *\n",
    "import pymunk \n",
    "\n",
    "from pymunk.vec2d import Vec2d"
   ]
  },
  {
   "cell_type": "code",
   "execution_count": 2,
   "metadata": {},
   "outputs": [],
   "source": [
    "from pymunk import pygame_util\n",
    "import random\n",
    "import math"
   ]
  },
  {
   "cell_type": "code",
   "execution_count": 3,
   "metadata": {},
   "outputs": [],
   "source": [
    "def add_bullet(space):\n",
    "    mass = 1\n",
    "    radius = 5\n",
    "    moment = pymunk.moment_for_circle(mass, 0, radius) # 1\n",
    "    body = pymunk.Body(mass, moment) # 2\n",
    "    body.position = 0, 200 # 3\n",
    "    body.start_position = Vec2d(body.position)\n",
    "    shape = pymunk.Circle(body, radius) # 4\n",
    "    \n",
    "    shape.elasticity = 0\n",
    "    shape.friction = 1000000\n",
    "    shape.collision_type = 1\n",
    "    \n",
    "    shape.color = pygame.color.THECOLORS[\"black\"]\n",
    "    \n",
    "    space.add(body, shape) # 5\n",
    "    return shape"
   ]
  },
  {
   "cell_type": "code",
   "execution_count": 4,
   "metadata": {},
   "outputs": [],
   "source": [
    "def add_pendulum(space):\n",
    "    \n",
    "    # x and y coords for block's center\n",
    "    center_x = 300\n",
    "    center_y = 100\n",
    "    \n",
    "    # Add pendulum's block\n",
    "    #block_mass = 10000    \n",
    "    #block_moment = pymunk.moment_for_box(block_mass, (200,100))\n",
    "    block_body = pymunk.Body()\n",
    "    \n",
    "    block_body.position = center_x, center_y\n",
    "    block_shape = pymunk.Poly(block_body, [(center_x-100, center_y-50),(center_x-100, center_y+50),(center_x+100, center_y+50),(center_x+100, center_y-50)])\n",
    "    block_shape.density = .0025\n",
    "    \n",
    "    block_shape.elasticity = 0\n",
    "    block_shape.friction = 10000000\n",
    "    block_shape.collision_type = 2\n",
    "    \n",
    "    block_shape.color = pygame.color.THECOLORS[\"gray\"]\n",
    "    \n",
    "    space.add(block_body, block_shape)    \n",
    "    \n",
    "    \n",
    "    # Make pendulum hang from two strings\n",
    "    pivot_point_1 = pymunk.Body(body_type = pymunk.Body.STATIC)\n",
    "    pivot_point_1.position = (center_x, center_y+100)\n",
    "    \n",
    "    pivot_point_2 = pymunk.Body(body_type = pymunk.Body.STATIC)\n",
    "    pivot_point_2.position = (center_x, center_y+100)\n",
    "    \n",
    "    joint_1 = pymunk.constraint.PinJoint(pivot_point_1, block_body, (center_x-100, center_y+100), (center_x-100,center_y+50))\n",
    "    joint_2 = pymunk.constraint.PinJoint(pivot_point_2, block_body, (center_x+100, center_y+100), (center_x+100,center_y+50))\n",
    "    \n",
    "    space.add(joint_1, joint_2)\n",
    "    \n",
    "    return block_shape"
   ]
  },
  {
   "cell_type": "code",
   "execution_count": 5,
   "metadata": {},
   "outputs": [],
   "source": [
    "def bullet_hits(arbiter, space, _):    \n",
    "    '''\n",
    "    This function is called after the bullet finishes transferring momentum to block (during post_solve)\n",
    "    '''\n",
    "    # Transfer mass of bullet to block\n",
    "    space.bodies[1].mass += (space.bodies[0].mass)\n",
    "    \n",
    "    space.remove(space.shapes[0]) # remove the bullet shape\n",
    "    space.remove(space.bodies[0]) # remove the bullet body\n"
   ]
  },
  {
   "cell_type": "code",
   "execution_count": 6,
   "metadata": {},
   "outputs": [
    {
     "ename": "SystemExit",
     "evalue": "0",
     "output_type": "error",
     "traceback": [
      "An exception has occurred, use %tb to see the full traceback.\n",
      "\u001b[0;31mSystemExit\u001b[0m\u001b[0;31m:\u001b[0m 0\n"
     ]
    },
    {
     "name": "stderr",
     "output_type": "stream",
     "text": [
      "/Users/alecx/anaconda3/envs/physics/lib/python2.7/site-packages/IPython/core/interactiveshell.py:2886: UserWarning: To exit: use 'exit', 'quit', or Ctrl-D.\n",
      "  warn(\"To exit: use 'exit', 'quit', or Ctrl-D.\", stacklevel=1)\n"
     ]
    }
   ],
   "source": [
    "def main():\n",
    "    pygame.init()\n",
    "    myfont = pygame.font.SysFont('Comic Sans MS', 72)\n",
    "    \n",
    "    screen = pygame.display.set_mode((800, 600))\n",
    "    pygame.display.set_caption(\"Ballistic Pendulum Simulation\")\n",
    "    clock = pygame.time.Clock()\n",
    "\n",
    "    background = pygame.Surface(screen.get_size())\n",
    "    background = background.convert()\n",
    "    background.fill((255, 255, 255))\n",
    "    \n",
    "    \n",
    "    space = pymunk.Space() #2\n",
    "    space.gravity = 0, -900\n",
    "    space.damping = .99\n",
    "    \n",
    "    bullet = add_bullet(space)\n",
    "    block = add_pendulum(space)\n",
    "    \n",
    "    # Setup bullet-block collision callback function\n",
    "    h = space.add_collision_handler(1, 2) # ...(COLLTYPE_BULLET, COLLTYPE_BLOCK)\n",
    "    h.post_solve = bullet_hits\n",
    "    \n",
    "\n",
    "    draw_options = pymunk.pygame_util.DrawOptions(screen)\n",
    "    draw_options.constraint_color = pygame.color.THECOLORS[\"brown\"]\n",
    "    draw_options.collision_point_color = pygame.color.THECOLORS[\"red\"] \n",
    "\n",
    "\n",
    "    space.shapes[0].body.apply_impulse_at_local_point((15000,0))\n",
    "    \n",
    "    \n",
    "    while True:\n",
    "        for event in pygame.event.get():\n",
    "            if event.type == QUIT:\n",
    "                sys.exit(0)\n",
    "            elif event.type == KEYDOWN and event.key == K_ESCAPE:\n",
    "                sys.exit(0)\n",
    "                \n",
    "        \n",
    "        # Do Physics calculations\n",
    "        textsurface = myfont.render(str(block.body.position[1] - 100), 1, (0, 0, 0))\n",
    "        screen.blit(textsurface,(100,100))\n",
    "\n",
    "        \n",
    "                \n",
    "                \n",
    "        space.step(1/500.0) # TEMP: Slow-motion\n",
    "        \n",
    "        \n",
    "        \n",
    "        screen.blit(background, (0, 0))\n",
    "        space.debug_draw(draw_options)\n",
    "\n",
    "\n",
    "        pygame.display.flip()\n",
    "        clock.tick(50)\n",
    "        \n",
    "\n",
    "if __name__ == '__main__':\n",
    "    sys.exit(main())"
   ]
  },
  {
   "cell_type": "code",
   "execution_count": null,
   "metadata": {},
   "outputs": [],
   "source": []
  }
 ],
 "metadata": {
  "kernelspec": {
   "display_name": "Python 2",
   "language": "python",
   "name": "python2"
  },
  "language_info": {
   "codemirror_mode": {
    "name": "ipython",
    "version": 2
   },
   "file_extension": ".py",
   "mimetype": "text/x-python",
   "name": "python",
   "nbconvert_exporter": "python",
   "pygments_lexer": "ipython2",
   "version": "2.7.16"
  }
 },
 "nbformat": 4,
 "nbformat_minor": 2
}
