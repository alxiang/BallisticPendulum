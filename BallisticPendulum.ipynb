{
 "cells": [
  {
   "cell_type": "raw",
   "metadata": {},
   "source": [
    "UNIT GUIDE (pymunk is unit-less):\n",
    "- Default mass : kg\n",
    "- Default distance : px --> m\n",
    "- Calculated Energy : J"
   ]
  },
  {
   "cell_type": "code",
   "execution_count": 1,
   "metadata": {},
   "outputs": [
    {
     "name": "stdout",
     "output_type": "stream",
     "text": [
      "pygame 1.9.6\n",
      "Hello from the pygame community. https://www.pygame.org/contribute.html\n",
      "Loading chipmunk for Darwin (64bit) [/Users/alecx/anaconda3/envs/physics/lib/python2.7/site-packages/pymunk/libchipmunk.dylib]\n"
     ]
    }
   ],
   "source": [
    "import sys\n",
    "import pygame\n",
    "from pygame.locals import *\n",
    "import pymunk \n",
    "\n",
    "from pymunk.vec2d import Vec2d"
   ]
  },
  {
   "cell_type": "code",
   "execution_count": 2,
   "metadata": {},
   "outputs": [],
   "source": [
    "from pymunk import pygame_util\n",
    "import random\n",
    "import math"
   ]
  },
  {
   "cell_type": "code",
   "execution_count": 3,
   "metadata": {
    "code_folding": []
   },
   "outputs": [],
   "source": [
    "# Converts a pixel length to a meter length: 100px = 1m\n",
    "def px2m(length):\n",
    "    return length/100.0\n",
    "\n",
    "# Converts kinetic energy calculated from pixels to kinetic energy calculated from meters\n",
    "def px2e(ke):\n",
    "    ke /= 2.0 # Pymunk leaves out 1/2 in KE=(1/2)mv^2 calculation\n",
    "    \n",
    "    return ke/10000.0"
   ]
  },
  {
   "cell_type": "code",
   "execution_count": 4,
   "metadata": {
    "code_folding": []
   },
   "outputs": [],
   "source": [
    "def add_bullet(space, b_mass=1):\n",
    "    radius = 10\n",
    "    moment = pymunk.moment_for_circle(b_mass, 0, radius) # 1\n",
    "    body = pymunk.Body(b_mass, moment) # 2\n",
    "    body.position = 0, 200 # 3\n",
    "    body.start_position = Vec2d(body.position)\n",
    "    shape = pymunk.Circle(body, radius) # 4\n",
    "    \n",
    "    shape.elasticity = 0\n",
    "    shape.friction = 0\n",
    "    shape.collision_type = 1\n",
    "    \n",
    "    shape.color = pygame.color.THECOLORS[\"black\"]\n",
    "    \n",
    "    space.add(body, shape) # 5\n",
    "    return shape"
   ]
  },
  {
   "cell_type": "code",
   "execution_count": 5,
   "metadata": {
    "code_folding": []
   },
   "outputs": [],
   "source": [
    "def add_pendulum(space, b_mass=50):\n",
    "    \n",
    "    # x and y coords for block's center\n",
    "    center_x = 300\n",
    "    center_y = 100\n",
    "    \n",
    "    # Add pendulum's block\n",
    "    #block_mass = 10000    \n",
    "    #block_moment = pymunk.moment_for_box(block_mass, (200,100))\n",
    "    block_body = pymunk.Body()\n",
    "    \n",
    "    block_body.position = center_x, center_y\n",
    "    block_shape = pymunk.Poly(block_body, [(center_x-100, center_y-50),(center_x-100, center_y+50),(center_x+100, center_y+50),(center_x+100, center_y-50)])\n",
    "    block_shape.density = b_mass/(200.0*100)\n",
    "    \n",
    "    block_shape.elasticity = 0\n",
    "    block_shape.friction = 0\n",
    "    block_shape.collision_type = 2\n",
    "    \n",
    "    block_shape.color = pygame.color.THECOLORS[\"gray\"]\n",
    "    \n",
    "    space.add(block_body, block_shape)    \n",
    "    \n",
    "    \n",
    "    # Make pendulum hang from two strings\n",
    "    pivot_point_1 = pymunk.Body(body_type = pymunk.Body.STATIC)\n",
    "    pivot_point_1.position = (center_x, center_y+100)\n",
    "    \n",
    "    pivot_point_2 = pymunk.Body(body_type = pymunk.Body.STATIC)\n",
    "    pivot_point_2.position = (center_x, center_y+100)\n",
    "    \n",
    "    joint_1 = pymunk.constraint.PinJoint(pivot_point_1, block_body, (center_x-100, center_y+100), (center_x-100,center_y+50))\n",
    "    joint_2 = pymunk.constraint.PinJoint(pivot_point_2, block_body, (center_x+100, center_y+100), (center_x+100,center_y+50))\n",
    "    \n",
    "    space.add(joint_1, joint_2)\n",
    "    \n",
    "    return block_shape"
   ]
  },
  {
   "cell_type": "code",
   "execution_count": 6,
   "metadata": {
    "code_folding": []
   },
   "outputs": [],
   "source": [
    "def bullet_hits(arbiter, space, _):    \n",
    "    '''\n",
    "    This function is called after the bullet finishes transferring momentum to block (during post_solve)\n",
    "    '''\n",
    "    # Transfer mass of bullet to block\n",
    "    space.bodies[1].mass += (space.bodies[0].mass)\n",
    "    \n",
    "    \n",
    "    space.remove(space.shapes[0]) # remove the bullet shape\n",
    "    space.remove(space.bodies[0]) # remove the bullet body\n",
    "    "
   ]
  },
  {
   "cell_type": "code",
   "execution_count": 7,
   "metadata": {
    "code_folding": []
   },
   "outputs": [],
   "source": [
    "class simulation:\n",
    "    def __init__(self):\n",
    "        self.screen_width, self.screen_height = 800, 600 # Equivalent to 8m x 6m\n",
    "        \n",
    "        self.max_height_reached = None\n",
    "        self.max_potential_energy = None\n",
    "    \n",
    "    def start_simulation(self):\n",
    "        pygame.init()\n",
    "        self.myfont = pygame.font.SysFont('Comic Sans MS', 24)\n",
    "\n",
    "        self.screen = pygame.display.set_mode((self.screen_width, self.screen_height))\n",
    "        self.screen.set_alpha(None)\n",
    "        \n",
    "        pygame.display.set_caption(\"Ballistic Pendulum Simulation\")\n",
    "        self.clock = pygame.time.Clock()\n",
    "\n",
    "        self.background = pygame.Surface(self.screen.get_size())\n",
    "        self.background = self.background.convert()\n",
    "        self.background.fill((255, 255, 255))\n",
    "\n",
    "        self.space = pymunk.Space()\n",
    "        self.space.gravity = 0, -980.665 # Equivalent to ~9.8 m/s^2\n",
    "        self.space.damping = .95\n",
    "\n",
    "        self.bullet = add_bullet(self.space)\n",
    "        self.bullet_mass = self.space.bodies[0].mass # store bullet mass for future calculations\n",
    "        self.block = add_pendulum(self.space)\n",
    "        self.impulse = 15000\n",
    "\n",
    "        # Setup bullet-block collision callback function\n",
    "        self.h = self.space.add_collision_handler(1, 2) # ...(COLLTYPE_BULLET, COLLTYPE_BLOCK)\n",
    "        self.h.post_solve = bullet_hits\n",
    "\n",
    "        self.reached_apex = False # set flag for re-calculating block's potential energy\n",
    "\n",
    "        self.draw_options = pymunk.pygame_util.DrawOptions(self.screen)\n",
    "        self.draw_options.constraint_color = pygame.color.THECOLORS[\"brown\"]\n",
    "        self.draw_options.collision_point_color = pygame.color.THECOLORS[\"red\"] \n",
    "\n",
    "        # Equivalent to 150 kgm/s (with default ball mass)\n",
    "        self.space.shapes[0].body.apply_impulse_at_local_point((self.impulse,0)) \n",
    "\n",
    "    def run_simulation(self):\n",
    "        \n",
    "        self.screen.blit(self.background, (0, 0))\n",
    "        \n",
    "        # One-time Calculations (when pendulum reaches max-height)\n",
    "        if(px2e(self.block.body.kinetic_energy) < 3 and len(self.space.bodies)==1 and self.reached_apex==False):\n",
    "            # Calculate E = mgh\n",
    "            self.max_height_reached = px2m(self.block.body.position[1] - 100)\n",
    "            self.max_potential_energy = self.block.body.mass*px2m(self.space.gravity[1]*-1)*px2m(self.block.body.position[1] - 100)\n",
    "            \n",
    "            # Calculate vf from mgh = (1/2)mv^2\n",
    "            self.maxv_from_mgh = math.sqrt(self.max_potential_energy * 2 / self.block.body.mass)\n",
    "            \n",
    "            # Calculate vi from m(vi) = (m+M)(vf)\n",
    "            # vi = (m+M)/m * (vf)\n",
    "            self.bulletv_from_maxv = (self.block.body.mass)/self.bullet_mass * self.maxv_from_mgh\n",
    "        \n",
    "            self.reached_apex = True\n",
    "                \n",
    "        \n",
    "        # Ongoing Calculations\n",
    "        self.text_h = self.myfont.render(\"Block Height: %.2f m\" % px2m(self.block.body.position[1] - 100), True, (0, 0, 0), (255,255,255))\n",
    "        self.screen.blit(self.text_h, (self.screen_width/2-self.text_h.get_rect().width/2, self.screen_height/2 - 200))\n",
    "\n",
    "        self.text_ke = self.myfont.render(\"Block KE: %.2f J\" % px2e(self.block.body.kinetic_energy), True, (0, 0, 0), (255,255,255))\n",
    "        self.screen.blit(self.text_ke, (self.screen_width/2-self.text_ke.get_rect().width/2, self.screen_height/2 - 225))\n",
    "\n",
    "        if(self.max_height_reached != None):\n",
    "            self.text_maxh = self.myfont.render(\"Max Height Reached: %.2f m\" % self.max_height_reached, True, (0, 0, 0), (255,255,255))\n",
    "            self.screen.blit(self.text_maxh, (self.screen_width/2-self.text_maxh.get_rect().width/2, self.screen_height/2 + 175))\n",
    "            \n",
    "            self.text_mgh = self.myfont.render(\"Max PE Reached: %.2f J\" % self.max_potential_energy, True, (0, 0, 0), (255,255,255))\n",
    "            self.screen.blit(self.text_mgh, (self.screen_width/2-self.text_mgh.get_rect().width/2, self.screen_height/2 + 200))    \n",
    "\n",
    "            self.text_maxv = self.myfont.render(\"Calculated Max Block Velocity: %.2f m/s\" % self.maxv_from_mgh, True, (0,0,0), (255,255,255))\n",
    "            self.screen.blit(self.text_maxv, (self.screen_width/2-self.text_maxv.get_rect().width/2, self.screen_height/2 + 225))\n",
    "\n",
    "            self.text_bulletv = self.myfont.render(\"Calculated Bullet Velocity: %.2f m/s\" % self.bulletv_from_maxv, True, (0,0,0), (255,255,255))\n",
    "            self.screen.blit(self.text_bulletv, (self.screen_width/2-self.text_bulletv.get_rect().width/2, self.screen_height/2 + 250))\n",
    "        \n",
    "            self.text_truev = self.myfont.render(\"True Bullet Velocity: %.2f m/s\" % px2m(self.impulse/self.bullet_mass), True, (255,0,0), (255,255,255))\n",
    "            self.screen.blit(self.text_truev, (self.screen_width/2-self.text_truev.get_rect().width/2, self.screen_height/2 + 275))\n",
    "        \n",
    "        \n",
    "        # Instructions\n",
    "        self.text_instructions1 = self.myfont.render(\"R: Restart\", True, (25,25,112), (255,255,255))\n",
    "        self.screen.blit(self.text_instructions1, (self.screen_width/2-self.text_instructions1.get_rect().width/2 - 200, self.screen_height/2-100))\n",
    "        \n",
    "        self.text_instructions2 = self.myfont.render(\"E: Restart and enter new masses\", True, (25,25,112), (255,255,255))\n",
    "        self.screen.blit(self.text_instructions2, (self.screen_width/2-self.text_instructions2.get_rect().width/2 - 200, self.screen_height/2-75))\n",
    "        \n",
    "        self.text_instructions3 = self.myfont.render(\"F: Fire another ball (buggy)\", True, (25,25,112), (255,255,255))\n",
    "        self.screen.blit(self.text_instructions3, (self.screen_width/2-self.text_instructions3.get_rect().width/2 - 200, self.screen_height/2-50))\n",
    "        \n",
    "        \n",
    "        self.space.step(1/200.0) # TEMP: Slow-motion\n",
    "        \n",
    "        self.space.debug_draw(self.draw_options)\n",
    "\n",
    "\n",
    "        pygame.display.flip()\n",
    "        self.clock.tick(50)\n",
    "\n",
    "    \n",
    "    def restart_simulation(self, mass_i_bullet=1, mass_i_block=50):        \n",
    "    \n",
    "        numShapes = len(self.space.shapes)\n",
    "        for i in range(numShapes):\n",
    "            self.space.remove(self.space.shapes[0])\n",
    "            \n",
    "        numBodies = len(self.space.bodies)\n",
    "        for i in range(numBodies):\n",
    "            self.space.remove(self.space.bodies[0])      \n",
    "        \n",
    "        numConstraints = len(self.space.constraints)\n",
    "        for i in range(numConstraints):\n",
    "            self.space.remove(self.space.constraints[0])\n",
    "        \n",
    "        self.bullet = add_bullet(self.space, mass_i_bullet)\n",
    "        self.block = add_pendulum(self.space, mass_i_block)\n",
    "        \n",
    "        self.draw_options = pymunk.pygame_util.DrawOptions(self.screen)\n",
    "        \n",
    "        self.space.shapes[0].body.apply_impulse_at_local_point((self.impulse,0))\n",
    "        \n",
    "        self.max_height_reached = None\n",
    "        self.max_potential_energy = None\n",
    "        \n",
    "        \n",
    "        self.draw_options = pymunk.pygame_util.DrawOptions(self.screen)\n",
    "        self.draw_options.constraint_color = pygame.color.THECOLORS[\"brown\"]\n",
    "                \n",
    "        self.reached_apex = False\n",
    "    "
   ]
  },
  {
   "cell_type": "code",
   "execution_count": 8,
   "metadata": {},
   "outputs": [],
   "source": [
    "def main():\n",
    "    pendulumSimulation = simulation()\n",
    "    pendulumSimulation.start_simulation()\n",
    "    \n",
    "    pygame.event.set_allowed([QUIT, KEYDOWN])\n",
    "    \n",
    "    \n",
    "    bullet_mass = 1\n",
    "    block_mass = 50\n",
    "    while True:\n",
    "        for event in pygame.event.get():\n",
    "            if event.type == QUIT:\n",
    "                sys.exit(0)\n",
    "                \n",
    "            elif event.type == KEYDOWN:\n",
    "                if event.key == K_ESCAPE:\n",
    "                    sys.exit(0)\n",
    "            \n",
    "                elif event.key == K_e:\n",
    "                    bullet_mass = input(\"Set new bullet mass (Default 1): \")\n",
    "                    block_mass = input(\"Set new block mass (Default 50): \")\n",
    "                    pendulumSimulation.restart_simulation(bullet_mass, block_mass)\n",
    "\n",
    "                        \n",
    "                elif event.key == K_r:\n",
    "                    pendulumSimulation.restart_simulation(bullet_mass, block_mass)\n",
    "                    \n",
    "                elif event.key == K_f:\n",
    "                    last_bullet = add_bullet(pendulumSimulation.space)\n",
    "                    last_bullet.body.apply_impulse_at_local_point((pendulumSimulation.impulse,0))\n",
    "\n",
    "        pendulumSimulation.run_simulation()\n"
   ]
  },
  {
   "cell_type": "code",
   "execution_count": 9,
   "metadata": {},
   "outputs": [
    {
     "ename": "SystemExit",
     "evalue": "0",
     "output_type": "error",
     "traceback": [
      "An exception has occurred, use %tb to see the full traceback.\n",
      "\u001b[0;31mSystemExit\u001b[0m\u001b[0;31m:\u001b[0m 0\n"
     ]
    },
    {
     "name": "stderr",
     "output_type": "stream",
     "text": [
      "/Users/alecx/anaconda3/envs/physics/lib/python2.7/site-packages/IPython/core/interactiveshell.py:2886: UserWarning: To exit: use 'exit', 'quit', or Ctrl-D.\n",
      "  warn(\"To exit: use 'exit', 'quit', or Ctrl-D.\", stacklevel=1)\n"
     ]
    }
   ],
   "source": [
    "if __name__ == '__main__':\n",
    "    sys.exit(main())"
   ]
  }
 ],
 "metadata": {
  "kernelspec": {
   "display_name": "Python 2",
   "language": "python",
   "name": "python2"
  },
  "language_info": {
   "codemirror_mode": {
    "name": "ipython",
    "version": 2
   },
   "file_extension": ".py",
   "mimetype": "text/x-python",
   "name": "python",
   "nbconvert_exporter": "python",
   "pygments_lexer": "ipython2",
   "version": "2.7.16"
  }
 },
 "nbformat": 4,
 "nbformat_minor": 2
}
