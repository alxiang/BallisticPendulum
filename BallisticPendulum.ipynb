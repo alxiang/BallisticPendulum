{
 "cells": [
  {
   "cell_type": "code",
   "execution_count": 1,
   "metadata": {},
   "outputs": [
    {
     "name": "stdout",
     "output_type": "stream",
     "text": [
      "pygame 1.9.6\n",
      "Hello from the pygame community. https://www.pygame.org/contribute.html\n",
      "Loading chipmunk for Darwin (64bit) [/Users/alecx/anaconda3/envs/physics/lib/python2.7/site-packages/pymunk/libchipmunk.dylib]\n"
     ]
    }
   ],
   "source": [
    "import sys\n",
    "import pygame\n",
    "from pygame.locals import *\n",
    "import pymunk #1"
   ]
  },
  {
   "cell_type": "code",
   "execution_count": 2,
   "metadata": {},
   "outputs": [],
   "source": [
    "from pymunk import pygame_util\n",
    "import random\n",
    "import math"
   ]
  },
  {
   "cell_type": "code",
   "execution_count": 3,
   "metadata": {},
   "outputs": [],
   "source": [
    "def add_bullet(space):\n",
    "    mass = 1\n",
    "    radius = 10\n",
    "    moment = pymunk.moment_for_circle(mass, 0, radius) # 1\n",
    "    body = pymunk.Body(mass, moment) # 2\n",
    "    body.position = 0, 200 # 3\n",
    "    shape = pymunk.Circle(body, radius) # 4\n",
    "    shape.elasticity = 1-.9999999\n",
    "    \n",
    "    space.add(body, shape) # 5\n",
    "    return shape"
   ]
  },
  {
   "cell_type": "code",
   "execution_count": 4,
   "metadata": {},
   "outputs": [],
   "source": [
    "def add_pendulum(space):\n",
    "    \n",
    "    # x and y coords for block's center\n",
    "    center_x = 300\n",
    "    center_y = 100\n",
    "    \n",
    "    # Add pendulum's block\n",
    "    block_mass = 10000    \n",
    "    block_body = pymunk.Body(block_mass, 1000)\n",
    "    block_body.position = center_x, center_y\n",
    "    block_shape = pymunk.Poly.create_box(block_body, size=(200,100))\n",
    "    block_shape.elasticity = 1-.999999\n",
    "    \n",
    "    space.add(block_body, block_shape)\n",
    "    \n",
    "    \n",
    "    # Make pendulum hang from one string \n",
    "    pivot_point = pymunk.Body(body_type = pymunk.Body.STATIC)\n",
    "    pivot_point.position = (center_x, center_y+100)\n",
    "    \n",
    "    joint = pymunk.constraint.PinJoint(pivot_point, block_body, (center_x, center_y+100), (center_x,center_y+50))\n",
    "    space.add(joint)\n",
    "    \n",
    "    return block_shape, joint"
   ]
  },
  {
   "cell_type": "code",
   "execution_count": null,
   "metadata": {},
   "outputs": [],
   "source": [
    "def main():\n",
    "    pygame.init()\n",
    "    screen = pygame.display.set_mode((800, 600))\n",
    "    pygame.display.set_caption(\"Ballistic Pendulum!\")\n",
    "    clock = pygame.time.Clock()\n",
    "\n",
    "    space = pymunk.Space() #2\n",
    "    space.gravity = (0.0, -900.0)\n",
    "    \n",
    "    bullet = add_bullet(space)\n",
    "    block, pinjoint = add_pendulum(space)\n",
    "    \n",
    "    draw_options = pymunk.pygame_util.DrawOptions(screen)\n",
    "\n",
    "    space.shapes[0].body.apply_impulse_at_local_point((3000,0))\n",
    "    \n",
    "    \n",
    "    while True:\n",
    "        for event in pygame.event.get():\n",
    "            if event.type == QUIT:\n",
    "                sys.exit(0)\n",
    "            elif event.type == KEYDOWN and event.key == K_ESCAPE:\n",
    "                sys.exit(0)\n",
    "                \n",
    "        \"\"\"\n",
    "        ticks_to_next_ball -= 1\n",
    "        if ticks_to_next_ball <= 0:\n",
    "            ticks_to_next_ball = 25\n",
    "            ball_shape = add_ball(space)\n",
    "            balls.append(ball_shape)\n",
    "        \"\"\"\n",
    "        space.step(1/500.0)\n",
    "\n",
    "        \n",
    "        \n",
    "        \n",
    "        screen.fill((255,255,255))\n",
    "        space.debug_draw(draw_options)\n",
    "\n",
    "\n",
    "        pygame.display.flip()\n",
    "        clock.tick(50)\n",
    "\n",
    "if __name__ == '__main__':\n",
    "    sys.exit(main())"
   ]
  },
  {
   "cell_type": "code",
   "execution_count": null,
   "metadata": {},
   "outputs": [],
   "source": []
  }
 ],
 "metadata": {
  "kernelspec": {
   "display_name": "Python 2",
   "language": "python",
   "name": "python2"
  },
  "language_info": {
   "codemirror_mode": {
    "name": "ipython",
    "version": 2
   },
   "file_extension": ".py",
   "mimetype": "text/x-python",
   "name": "python",
   "nbconvert_exporter": "python",
   "pygments_lexer": "ipython2",
   "version": "2.7.16"
  }
 },
 "nbformat": 4,
 "nbformat_minor": 2
}
